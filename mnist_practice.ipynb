{
 "cells": [
  {
   "cell_type": "code",
   "execution_count": null,
   "metadata": {},
   "outputs": [],
   "source": [
    "import numpy as np\n",
    "import matplotlib.pyplot as plt"
   ]
  },
  {
   "cell_type": "code",
   "execution_count": null,
   "metadata": {},
   "outputs": [],
   "source": [
    "import joblib\n",
    "mnist = joblib.load('./mnist')\n",
    "\n",
    "def split_mnist_train_test_data(mnist, n_train = 60000):\n",
    "    X, y = mnist['data'], mnist['target']\n",
    "    # Convert y to number because most of ML algorithms prefer number input\n",
    "    y = y.astype(np.uint8)\n",
    "    return X[:n_train], X[n_train:], y[:n_train], y[n_train:]\n",
    "\n",
    "X_train, X_test, y_train, y_test = split_mnist_train_test_data(mnist)"
   ]
  },
  {
   "cell_type": "code",
   "execution_count": 27,
   "metadata": {},
   "outputs": [],
   "source": [
    "from sklearn.neighbors import KNeighborsClassifier\n",
    "from sklearn.model_selection import GridSearchCV\n",
    "\n",
    "# params_grid = [\n",
    "#     {'n_neighbors':[3, 5, 10], 'weights':['uniform', 'distance'], 'algorithm':['auto', 'ball_tree', 'kd_tree', 'brute'], 'leaf_size':[30, 50, 100]}\n",
    "# ]\n",
    "\n",
    "params_grid = [\n",
    "    {'n_neighbors':[3], 'algorithm':[ 'ball_tree', 'kd_tree', 'brute']}\n",
    "]\n",
    "\n",
    "knn_clf = KNeighborsClassifier()\n",
    "\n",
    "grid_search = GridSearchCV(knn_clf, params_grid, cv=2, scoring='f1_macro', return_train_score=True)\n"
   ]
  },
  {
   "cell_type": "code",
   "execution_count": 28,
   "metadata": {},
   "outputs": [],
   "source": [
    "search_result = grid_search.fit(X_train, y_train)"
   ]
  },
  {
   "cell_type": "code",
   "execution_count": 1,
   "metadata": {},
   "outputs": [
    {
     "ename": "NameError",
     "evalue": "name 'search_result' is not defined",
     "output_type": "error",
     "traceback": [
      "\u001b[0;31m---------------------------------------------------------------------------\u001b[0m",
      "\u001b[0;31mNameError\u001b[0m                                 Traceback (most recent call last)",
      "Cell \u001b[0;32mIn[1], line 1\u001b[0m\n\u001b[0;32m----> 1\u001b[0m search_result\u001b[39m.\u001b[39mbest_score_\n",
      "\u001b[0;31mNameError\u001b[0m: name 'search_result' is not defined"
     ]
    }
   ],
   "source": [
    "search_result.best_score_"
   ]
  }
 ],
 "metadata": {
  "kernelspec": {
   "display_name": "base",
   "language": "python",
   "name": "python3"
  },
  "language_info": {
   "codemirror_mode": {
    "name": "ipython",
    "version": 3
   },
   "file_extension": ".py",
   "mimetype": "text/x-python",
   "name": "python",
   "nbconvert_exporter": "python",
   "pygments_lexer": "ipython3",
   "version": "3.9.16"
  },
  "orig_nbformat": 4
 },
 "nbformat": 4,
 "nbformat_minor": 2
}
