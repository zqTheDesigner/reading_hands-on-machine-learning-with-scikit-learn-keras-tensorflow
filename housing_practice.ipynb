{
 "cells": [
  {
   "cell_type": "code",
   "execution_count": 69,
   "metadata": {},
   "outputs": [],
   "source": [
    "import pandas as pd\n",
    "import numpy as np\n",
    "\n",
    "import os\n",
    "\n"
   ]
  },
  {
   "cell_type": "code",
   "execution_count": 123,
   "metadata": {},
   "outputs": [],
   "source": [
    "from sklearn.model_selection import StratifiedShuffleSplit\n",
    "from sklearn.model_selection import train_test_split\n",
    "\n",
    "class TrainTestSplitPipeline ():\n",
    "    \"\"\"\n",
    "    Split data into training and testing sets. If stratify is required,\n",
    "    will perform stratifield shuffle split based on the selected column\n",
    "\n",
    "    If the column selected as stratified category, and the bins value is\n",
    "    provided, the columns will be first cut in to categories then perform\n",
    "    the split\n",
    "\n",
    "    Parameters\n",
    "    ----------\n",
    "    test_size: float, int, default=0.2\n",
    "        If float, should be between 0.0 and 1.0, represent the percentage\n",
    "        of groups to include the test split (rounded up).\n",
    "        If int, should represent the absolute number of test groups. \n",
    "    \n",
    "    Examples\n",
    "    --------\n",
    "    >>> split = TrainTestSplitPipeline()\n",
    "    >>> split.fit(housing)\n",
    "    >>> split.stratify(column='some_column', bins = [0, 1, 2, np.inf])\n",
    "    >>> split.split()\n",
    "    >>> train_set = split.get_train_set()\n",
    "    >>> test_set = split.get_test_set()\n",
    "    \"\"\"\n",
    "    def __init__(self, test_size=0.2):\n",
    "        self.test_size = test_size\n",
    "\n",
    "        # For practice purpose, below parameters set to fixed value\n",
    "        self.random_state = 42\n",
    "        self.n_splits = 1\n",
    "\n",
    "        pass\n",
    "\n",
    "    def fit(self, X):\n",
    "        self.data = X\n",
    "\n",
    "    def stratify(self, column=None, bins=None ):\n",
    "        \"\"\"\n",
    "        Set stratify categories when perform the splitting\n",
    "\n",
    "        Parameters\n",
    "        ----------\n",
    "        column: string\n",
    "            Must be one of the column in the fitted data.\n",
    "        bins: array\n",
    "            If provided, will try to perform a pd.cut() to the \n",
    "            selected column, and use the cutted value as the\n",
    "            stratify category. Label of 1 based index will be \n",
    "            temporarily assigned to the category.\n",
    "        \"\"\"\n",
    "        if bins is not None:\n",
    "            self.stratify_cat = pd.cut(\n",
    "                self.data[column], \n",
    "                bins=bins, \n",
    "                labels=[i+1 for i in range(len(bins)-1)]\n",
    "                )\n",
    "        else:\n",
    "            self.stratify_cat = self.data[column]\n",
    "        \n",
    "        pass\n",
    "\n",
    "    def split(self):\n",
    "        if self.stratify_cat is not None:\n",
    "            split = StratifiedShuffleSplit(\n",
    "                n_splits=self.n_splits, \n",
    "                test_size=self.test_size, \n",
    "                random_state=self.random_state\n",
    "                )\n",
    "            \n",
    "            for train_idx, text_idx in split.split(self.data, self.stratify_cat):\n",
    "                self.train_set = self.data.loc[train_idx]\n",
    "                self.test_set = self.data.loc[text_idx]\n",
    "        else:\n",
    "            self.train_set, self.test_set = train_test_split(\n",
    "                self.data, \n",
    "                random_state=self.random_state\n",
    "                )\n",
    "        pass\n",
    "    \n",
    "    def get_train_set(self):\n",
    "        return self.train_set.copy()\n",
    "    \n",
    "    def get_test_set(self):\n",
    "        return self.test_set.copy()"
   ]
  },
  {
   "cell_type": "code",
   "execution_count": 70,
   "metadata": {},
   "outputs": [],
   "source": [
    "HOUSING_PATH = os.path.join('datasets', 'housing')"
   ]
  },
  {
   "cell_type": "code",
   "execution_count": 71,
   "metadata": {},
   "outputs": [],
   "source": [
    "def load_housing_data(housing_path=HOUSING_PATH):\n",
    "\tcsv_path = os.path.join(housing_path, \"housing.csv\")\n",
    "\treturn pd.read_csv(csv_path)"
   ]
  },
  {
   "cell_type": "code",
   "execution_count": 120,
   "metadata": {},
   "outputs": [],
   "source": [
    "housing = load_housing_data()"
   ]
  },
  {
   "cell_type": "code",
   "execution_count": 124,
   "metadata": {},
   "outputs": [],
   "source": [
    "split = TrainTestSplitPipeline()\n",
    "split.fit(housing)\n",
    "split.stratify(column='median_income', bins = [0, 1.5, 3.0, 4.5, 6, np.inf])\n",
    "split.split()\n",
    "\n",
    "train_set = split.get_train_set()\n",
    "test_set = split.get_test_set()"
   ]
  }
 ],
 "metadata": {
  "kernelspec": {
   "display_name": "base",
   "language": "python",
   "name": "python3"
  },
  "language_info": {
   "codemirror_mode": {
    "name": "ipython",
    "version": 3
   },
   "file_extension": ".py",
   "mimetype": "text/x-python",
   "name": "python",
   "nbconvert_exporter": "python",
   "pygments_lexer": "ipython3",
   "version": "3.9.16"
  },
  "orig_nbformat": 4
 },
 "nbformat": 4,
 "nbformat_minor": 2
}
