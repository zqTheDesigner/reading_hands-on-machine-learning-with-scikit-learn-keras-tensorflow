{
 "cells": [
  {
   "cell_type": "code",
   "execution_count": 3,
   "metadata": {},
   "outputs": [],
   "source": [
    "import requests\n",
    "\n",
    "res = requests.get('https://homl.info/spamassassin')\n"
   ]
  },
  {
   "cell_type": "code",
   "execution_count": 5,
   "metadata": {},
   "outputs": [
    {
     "data": {
      "text/plain": [
       "'<!DOCTYPE HTML PUBLIC \"-//W3C//DTD HTML 3.2 Final//EN\">\\n<html>\\n <head>\\n  <title>Index of /old/publiccorpus</title>\\n </head>\\n <body>\\n<h1>Index of /old/publiccorpus</h1>\\n  <table>\\n   <tr><th valign=\"top\"><img src=\"/icons/blank.gif\" alt=\"[ICO]\"></th><th><a href=\"?C=N;O=D\">Name</a></th><th><a href=\"?C=M;O=A\">Last modified</a></th><th><a href=\"?C=S;O=A\">Size</a></th><th><a href=\"?C=D;O=A\">Description</a></th></tr>\\n   <tr><th colspan=\"5\"><hr></th></tr>\\n<tr><td valign=\"top\"><img src=\"/icons/back.gif\" alt=\"[PARENTDIR]\"></td><td><a href=\"/old/\">Parent Directory</a></td><td>&nbsp;</td><td align=\"right\">  - </td><td>&nbsp;</td></tr>\\n<tr><td valign=\"top\"><img src=\"/icons/unknown.gif\" alt=\"[   ]\"></td><td><a href=\"20021010_easy_ham.tar.bz2\">20021010_easy_ham.tar.bz2</a></td><td align=\"right\">2004-06-29 03:26  </td><td align=\"right\">1.6M</td><td>&nbsp;</td></tr>\\n<tr><td valign=\"top\"><img src=\"/icons/unknown.gif\" alt=\"[   ]\"></td><td><a href=\"20021010_hard_ham.tar.bz2\">20021010_hard_ham.tar.bz2</a></td><td align=\"right\">2004-12-16 19:49  </td><td align=\"right\">1.0M</td><td>&nbsp;</td></tr>\\n<tr><td valign=\"top\"><img src=\"/icons/unknown.gif\" alt=\"[   ]\"></td><td><a href=\"20021010_spam.tar.bz2\">20021010_spam.tar.bz2</a></td><td align=\"right\">2004-06-29 03:26  </td><td align=\"right\">1.1M</td><td>&nbsp;</td></tr>\\n<tr><td valign=\"top\"><img src=\"/icons/unknown.gif\" alt=\"[   ]\"></td><td><a href=\"20030228_easy_ham.tar.bz2\">20030228_easy_ham.tar.bz2</a></td><td align=\"right\">2004-06-29 03:26  </td><td align=\"right\">1.5M</td><td>&nbsp;</td></tr>\\n<tr><td valign=\"top\"><img src=\"/icons/unknown.gif\" alt=\"[   ]\"></td><td><a href=\"20030228_easy_ham_2.tar.bz2\">20030228_easy_ham_2.tar.bz2</a></td><td align=\"right\">2004-06-29 03:26  </td><td align=\"right\">1.0M</td><td>&nbsp;</td></tr>\\n<tr><td valign=\"top\"><img src=\"/icons/unknown.gif\" alt=\"[   ]\"></td><td><a href=\"20030228_hard_ham.tar.bz2\">20030228_hard_ham.tar.bz2</a></td><td align=\"right\">2004-12-16 19:49  </td><td align=\"right\">1.0M</td><td>&nbsp;</td></tr>\\n<tr><td valign=\"top\"><img src=\"/icons/unknown.gif\" alt=\"[   ]\"></td><td><a href=\"20030228_spam.tar.bz2\">20030228_spam.tar.bz2</a></td><td align=\"right\">2004-06-29 03:26  </td><td align=\"right\">1.1M</td><td>&nbsp;</td></tr>\\n<tr><td valign=\"top\"><img src=\"/icons/unknown.gif\" alt=\"[   ]\"></td><td><a href=\"20030228_spam_2.tar.bz2\">20030228_spam_2.tar.bz2</a></td><td align=\"right\">2004-06-29 03:26  </td><td align=\"right\">2.0M</td><td>&nbsp;</td></tr>\\n<tr><td valign=\"top\"><img src=\"/icons/unknown.gif\" alt=\"[   ]\"></td><td><a href=\"20050311_spam_2.tar.bz2\">20050311_spam_2.tar.bz2</a></td><td align=\"right\">2005-03-11 23:55  </td><td align=\"right\">2.0M</td><td>&nbsp;</td></tr>\\n<tr><td valign=\"top\"><img src=\"/icons/folder.gif\" alt=\"[DIR]\"></td><td><a href=\"obsolete/\">obsolete/</a></td><td align=\"right\">2018-06-04 06:37  </td><td align=\"right\">  - </td><td>&nbsp;</td></tr>\\n<tr><td valign=\"top\"><img src=\"/icons/text.gif\" alt=\"[TXT]\"></td><td><a href=\"readme.html\">readme.html</a></td><td align=\"right\">2006-01-31 20:30  </td><td align=\"right\">4.5K</td><td>&nbsp;</td></tr>\\n   <tr><th colspan=\"5\"><hr></th></tr>\\n</table>\\n</body></html>\\n'"
      ]
     },
     "execution_count": 5,
     "metadata": {},
     "output_type": "execute_result"
    }
   ],
   "source": [
    "res.text"
   ]
  }
 ],
 "metadata": {
  "kernelspec": {
   "display_name": "base",
   "language": "python",
   "name": "python3"
  },
  "language_info": {
   "codemirror_mode": {
    "name": "ipython",
    "version": 3
   },
   "file_extension": ".py",
   "mimetype": "text/x-python",
   "name": "python",
   "nbconvert_exporter": "python",
   "pygments_lexer": "ipython3",
   "version": "3.9.16"
  },
  "orig_nbformat": 4
 },
 "nbformat": 4,
 "nbformat_minor": 2
}
